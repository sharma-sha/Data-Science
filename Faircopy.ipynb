{
 "cells": [
  {
   "cell_type": "code",
   "execution_count": 1,
   "id": "3d888b78-7d13-49f7-9b8d-751a0c603951",
   "metadata": {},
   "outputs": [],
   "source": [
    "import pandas as pd"
   ]
  },
  {
   "cell_type": "code",
   "execution_count": 2,
   "id": "2a24a6ce-96fc-493a-97ef-44d8bce2182f",
   "metadata": {},
   "outputs": [],
   "source": [
    "from Univariate import Univariate\n",
    "Obj=Univariate"
   ]
  },
  {
   "cell_type": "code",
   "execution_count": 3,
   "id": "2d423243-b0f8-46f2-8a53-f2c430a7b850",
   "metadata": {},
   "outputs": [],
   "source": [
    "dataset=pd.read_csv(\"Placement.csv\")"
   ]
  }
 ],
 "metadata": {
  "kernelspec": {
   "display_name": "Python 3 (ipykernel)",
   "language": "python",
   "name": "python3"
  },
  "language_info": {
   "codemirror_mode": {
    "name": "ipython",
    "version": 3
   },
   "file_extension": ".py",
   "mimetype": "text/x-python",
   "name": "python",
   "nbconvert_exporter": "python",
   "pygments_lexer": "ipython3",
   "version": "3.10.14"
  }
 },
 "nbformat": 4,
 "nbformat_minor": 5
}
