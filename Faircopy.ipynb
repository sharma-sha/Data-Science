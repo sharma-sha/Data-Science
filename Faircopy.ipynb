{
 "cells": [
  {
   "cell_type": "code",
   "execution_count": 1,
   "id": "3d888b78-7d13-49f7-9b8d-751a0c603951",
   "metadata": {},
   "outputs": [],
   "source": [
    "import pandas as pd"
   ]
  },
  {
   "cell_type": "code",
   "execution_count": 2,
   "id": "2a24a6ce-96fc-493a-97ef-44d8bce2182f",
   "metadata": {},
   "outputs": [],
   "source": [
    "from Univariate import Univariate\n",
    "Obj=Univariate"
   ]
  },
  {
   "cell_type": "code",
   "execution_count": 3,
   "id": "2d423243-b0f8-46f2-8a53-f2c430a7b850",
   "metadata": {},
   "outputs": [],
   "source": [
    "dataset=pd.read_csv(\"Placement.csv\")"
   ]
  },
  {
   "cell_type": "code",
   "execution_count": 5,
   "id": "8fe01e40-e142-486e-b37f-a51aa7084e4f",
   "metadata": {},
   "outputs": [
    {
     "name": "stdout",
     "output_type": "stream",
     "text": [
      "sl_no\n",
      "gender\n",
      "ssc_p\n",
      "ssc_b\n",
      "hsc_p\n",
      "hsc_b\n",
      "hsc_s\n",
      "degree_p\n",
      "degree_t\n",
      "workex\n",
      "etest_p\n",
      "specialisation\n",
      "mba_p\n",
      "status\n",
      "salary\n"
     ]
    }
   ],
   "source": [
    "quan,qual=Obj.quanQual(dataset)"
   ]
  },
  {
   "cell_type": "code",
   "execution_count": 6,
   "id": "7e456232-09ac-4e32-9280-1e634db6fa1e",
   "metadata": {},
   "outputs": [
    {
     "data": {
      "text/plain": [
       "['sl_no', 'ssc_p', 'hsc_p', 'degree_p', 'etest_p', 'mba_p', 'salary']"
      ]
     },
     "execution_count": 6,
     "metadata": {},
     "output_type": "execute_result"
    }
   ],
   "source": [
    "quan"
   ]
  },
  {
   "cell_type": "code",
   "execution_count": null,
   "id": "63159d28-1e9d-476a-859a-4f03cf592cb6",
   "metadata": {},
   "outputs": [],
   "source": [
    "qual"
   ]
  }
 ],
 "metadata": {
  "kernelspec": {
   "display_name": "Python 3 (ipykernel)",
   "language": "python",
   "name": "python3"
  },
  "language_info": {
   "codemirror_mode": {
    "name": "ipython",
    "version": 3
   },
   "file_extension": ".py",
   "mimetype": "text/x-python",
   "name": "python",
   "nbconvert_exporter": "python",
   "pygments_lexer": "ipython3",
   "version": "3.10.14"
  }
 },
 "nbformat": 4,
 "nbformat_minor": 5
}
